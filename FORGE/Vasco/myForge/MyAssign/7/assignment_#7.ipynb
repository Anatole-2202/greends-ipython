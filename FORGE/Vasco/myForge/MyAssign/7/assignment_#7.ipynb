{
 "cells": [
  {
   "cell_type": "markdown",
   "metadata": {},
   "source": [
    "# ASSIGNMENT # 7 - Current and future climate. VPD differences. \n",
    "- <span style=\"color:gold\">***(DONE)***</span>\n",
    "- Consider your assignment # 6\n",
    "- In that assignement you created a VPD column into this file \"Climate_hisafe_knmievaluation_daily_from_01-01-1981_to_31-12-2010.csv\" that represents current climate\n",
    "- In this assigment, you will perform a similar exercise but to the file of future climate: <span style=\"color:green\">\"Climate_hisafe_knmircp85_daily_from_01-01-2006_to_31-12-2100.csv\"</span>\n",
    "- Create a new column of VPD in the future climate file\n",
    "- USE PANDAS to calculate the monthly average:\n",
    "  -  from 1981 to 2010 (file with current climate)\n",
    "  -  from 2031 to 2060 (file with future climate)\n",
    "  -  plot a simple graph with Maptplotlib of VPD from current and future climate "
   ]
  },
  {
   "cell_type": "code",
   "execution_count": 2,
   "metadata": {},
   "outputs": [
    {
     "ename": "ModuleNotFoundError",
     "evalue": "No module named 'myfunctions'",
     "output_type": "error",
     "traceback": [
      "\u001b[1;31m---------------------------------------------------------------------------\u001b[0m",
      "\u001b[1;31mModuleNotFoundError\u001b[0m                       Traceback (most recent call last)",
      "Cell \u001b[1;32mIn [2], line 6\u001b[0m\n\u001b[0;32m      3\u001b[0m sys\u001b[39m.\u001b[39mpath\u001b[39m.\u001b[39mappend(\u001b[39m'\u001b[39m\u001b[39m../FORGE/JOAOPALMA\u001b[39m\u001b[39m'\u001b[39m) \u001b[39m# This adds your modules if your module is somewhere else not script folder or subfolders\u001b[39;00m\n\u001b[0;32m      5\u001b[0m \u001b[39mimport\u001b[39;00m \u001b[39mpandas\u001b[39;00m \u001b[39mas\u001b[39;00m \u001b[39mpd\u001b[39;00m\n\u001b[1;32m----> 6\u001b[0m \u001b[39mimport\u001b[39;00m \u001b[39mmyfunctions\u001b[39;00m\n\u001b[0;32m      7\u001b[0m Current \u001b[39m=\u001b[39m pd\u001b[39m.\u001b[39mread_csv(\u001b[39m'\u001b[39m\u001b[39m../Climate_hisafe_knmievaluation_daily_from_01-01-1981_to_31-12-2010.csv\u001b[39m\u001b[39m'\u001b[39m, skiprows\u001b[39m=\u001b[39m[\u001b[39m0\u001b[39m])\n\u001b[0;32m      8\u001b[0m Future \u001b[39m=\u001b[39m pd\u001b[39m.\u001b[39mread_csv(\u001b[39m'\u001b[39m\u001b[39m../Climate_hisafe_knmircp85_daily_from_01-01-2006_to_31-12-2100.csv\u001b[39m\u001b[39m'\u001b[39m, skiprows\u001b[39m=\u001b[39m[\u001b[39m0\u001b[39m])\n",
      "\u001b[1;31mModuleNotFoundError\u001b[0m: No module named 'myfunctions'"
     ]
    }
   ],
   "source": [
    "import sys\n",
    "# (Facultative) setting path to get your myfunctions \n",
    "sys.path.append('../FORGE/JOAOPALMA') # This adds your modules if your module is somewhere else not script folder or subfolders\n",
    "\n",
    "import pandas as pd\n",
    "import myfunctions\n",
    "Current = pd.read_csv('../Climate_hisafe_knmievaluation_daily_from_01-01-1981_to_31-12-2010.csv', skiprows=[0])\n",
    "Future = pd.read_csv('../Climate_hisafe_knmircp85_daily_from_01-01-2006_to_31-12-2100.csv', skiprows=[0])\n",
    "\n",
    "# Calculate VPD with pandas (your vpd function should work with numpy instead math library)\n",
    "# The following creates an additional column called \"VPD\" where your function is used\n",
    "Current[\"VPD\"] = myfunctions.calculate_vpd(Current[\"tasmax\"],Current[\"tasmin\"],Current[\"hurs\"] )\n",
    "Future[\"VPD\"] = myfunctions.calculate_vpd(Future[\"tasmax\"],Future[\"tasmin\"],Future[\"hurs\"] )\n",
    "\n",
    "### ... keep going\n"
   ]
  }
 ],
 "metadata": {
  "kernelspec": {
   "display_name": "Python 3.10.7 64-bit",
   "language": "python",
   "name": "python3"
  },
  "language_info": {
   "codemirror_mode": {
    "name": "ipython",
    "version": 3
   },
   "file_extension": ".py",
   "mimetype": "text/x-python",
   "name": "python",
   "nbconvert_exporter": "python",
   "pygments_lexer": "ipython3",
   "version": "3.10.7"
  },
  "orig_nbformat": 4,
  "vscode": {
   "interpreter": {
    "hash": "26de051ba29f2982a8de78e945f0abaf191376122a1563185a90213a26c5da77"
   }
  }
 },
 "nbformat": 4,
 "nbformat_minor": 2
}
