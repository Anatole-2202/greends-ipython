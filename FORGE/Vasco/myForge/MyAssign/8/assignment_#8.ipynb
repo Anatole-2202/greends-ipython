{
 "cells": [
  {
   "cell_type": "markdown",
   "metadata": {},
   "source": [
    "## ASSIGNMENT #8  - Create a program to retrieve the value of Precipitation given a latitute and longitude coordinate. (Real World)\n",
    "- <span style=\"color:gold\">***(done)***</span>"
   ]
  },
  {
   "cell_type": "markdown",
   "metadata": {},
   "source": [
    "\n",
    "- To retrieve values of a RASTER (or NetCDF) from a certain real geografic coordinate, you first need to find to which indexes that lat and lon corresponds in the NetCDF grid\n",
    "- Consider the file ***EMEP01_rv4.42_year.2019met_2019emis.nc***\n",
    "- Consider you want to retrieve precipitation (WDEP_PREC variable from the dataset) from the location with Lat: 38.568, Lon: -9.720\n",
    "- Assignment is to get precipitation from location inLat: 38.568, inLon: -9.720\n",
    "- **Tip:** Find the index of the latitude which is nearer to inLat. Do the same to inLon\n",
    "- then print the precipitation for those indexes (wich is the precipitation of the inLat and inLon)\n",
    "- **Tip**: create a function in your collection (e.g. myFunctions) to find the index of nearest coordinate, eg a function that receives as arguments 1) a number (coordinate), and 2) a list (of coordinates), returning the index of the nearest coodinate found in that list"
   ]
  },
  {
   "cell_type": "code",
   "execution_count": 1,
   "metadata": {},
   "outputs": [
    {
     "ename": "FileNotFoundError",
     "evalue": "[Errno 2] No such file or directory: b'../FORGE/EMEP01_rv4.42_year.2019met_2019emis.nc'",
     "output_type": "error",
     "traceback": [
      "\u001b[1;31m---------------------------------------------------------------------------\u001b[0m",
      "\u001b[1;31mFileNotFoundError\u001b[0m                         Traceback (most recent call last)",
      "Cell \u001b[1;32mIn [1], line 4\u001b[0m\n\u001b[0;32m      2\u001b[0m \u001b[39mimport\u001b[39;00m \u001b[39mnetCDF4\u001b[39;00m \u001b[39mas\u001b[39;00m \u001b[39mnc\u001b[39;00m \n\u001b[0;32m      3\u001b[0m fn \u001b[39m=\u001b[39m \u001b[39m'\u001b[39m\u001b[39m../FORGE/EMEP01_rv4.42_year.2019met_2019emis.nc\u001b[39m\u001b[39m'\u001b[39m \u001b[39m# update this path to your own file\u001b[39;00m\n\u001b[1;32m----> 4\u001b[0m ds \u001b[39m=\u001b[39m nc\u001b[39m.\u001b[39mDataset(fn)\n\u001b[0;32m      5\u001b[0m \u001b[39m#list of the lat, lon, coordinates and precipitation\u001b[39;00m\n\u001b[0;32m      6\u001b[0m lats \u001b[39m=\u001b[39m ds\u001b[39m.\u001b[39mvariables[\u001b[39m'\u001b[39m\u001b[39mlat\u001b[39m\u001b[39m'\u001b[39m][:]\n",
      "File \u001b[1;32msrc\\netCDF4\\_netCDF4.pyx:2463\u001b[0m, in \u001b[0;36mnetCDF4._netCDF4.Dataset.__init__\u001b[1;34m()\u001b[0m\n",
      "File \u001b[1;32msrc\\netCDF4\\_netCDF4.pyx:2026\u001b[0m, in \u001b[0;36mnetCDF4._netCDF4._ensure_nc_success\u001b[1;34m()\u001b[0m\n",
      "\u001b[1;31mFileNotFoundError\u001b[0m: [Errno 2] No such file or directory: b'../FORGE/EMEP01_rv4.42_year.2019met_2019emis.nc'"
     ]
    }
   ],
   "source": [
    "# Load your NetCDF as before:\n",
    "import netCDF4 as nc \n",
    "fn = '../FORGE/EMEP01_rv4.42_year.2019met_2019emis.nc' # update this path to your own file\n",
    "ds = nc.Dataset(fn)\n",
    "#list of the lat, lon, coordinates and precipitation\n",
    "lats = ds.variables['lat'][:]\n",
    "lons = ds.variables['lon'][:]\n",
    "prec = ds.variables['WDEP_PREC']"
   ]
  }
 ],
 "metadata": {
  "kernelspec": {
   "display_name": "Python 3.10.7 64-bit",
   "language": "python",
   "name": "python3"
  },
  "language_info": {
   "codemirror_mode": {
    "name": "ipython",
    "version": 3
   },
   "file_extension": ".py",
   "mimetype": "text/x-python",
   "name": "python",
   "nbconvert_exporter": "python",
   "pygments_lexer": "ipython3",
   "version": "3.10.7"
  },
  "orig_nbformat": 4,
  "vscode": {
   "interpreter": {
    "hash": "26de051ba29f2982a8de78e945f0abaf191376122a1563185a90213a26c5da77"
   }
  }
 },
 "nbformat": 4,
 "nbformat_minor": 2
}
