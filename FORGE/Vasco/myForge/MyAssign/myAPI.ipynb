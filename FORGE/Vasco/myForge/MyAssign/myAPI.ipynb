{
 "cells": [
  {
   "cell_type": "markdown",
   "metadata": {},
   "source": [
    "# my API\n",
    "- <span style=\"color:gold\">***(sys)***</span>\n"
   ]
  },
  {
   "cell_type": "code",
   "execution_count": 10,
   "metadata": {},
   "outputs": [
    {
     "ename": "SyntaxError",
     "evalue": "expected 'except' or 'finally' block (286645224.py, line 20)",
     "output_type": "error",
     "traceback": [
      "\u001b[1;36m  Cell \u001b[1;32mIn [10], line 20\u001b[1;36m\u001b[0m\n\u001b[1;33m    import argparse\u001b[0m\n\u001b[1;37m    ^\u001b[0m\n\u001b[1;31mSyntaxError\u001b[0m\u001b[1;31m:\u001b[0m expected 'except' or 'finally' block\n"
     ]
    }
   ],
   "source": [
    "import sys\n",
    "args=sys.argv\n",
    "print(args)\n",
    "\n",
    "nameofscript =args[0]\n",
    "in1=args[1]\n",
    "in2=args[2]\n",
    "in3=args[3]\n",
    "\n",
    "res=in1+in2+in3\n",
    "print (res)\n",
    "\n",
    "try:\n",
    "    nameofscript=args[0]\n",
    "    in1=args[1]\n",
    "    in2=args[2]\n",
    "    in3=args[3]\n",
    "\n",
    "\n",
    "import argparse\n",
    "parser = argparse.ArgumentParser()"
   ]
  }
 ],
 "metadata": {
  "kernelspec": {
   "display_name": "Python 3.10.7 64-bit",
   "language": "python",
   "name": "python3"
  },
  "language_info": {
   "codemirror_mode": {
    "name": "ipython",
    "version": 3
   },
   "file_extension": ".py",
   "mimetype": "text/x-python",
   "name": "python",
   "nbconvert_exporter": "python",
   "pygments_lexer": "ipython3",
   "version": "3.10.7"
  },
  "orig_nbformat": 4,
  "vscode": {
   "interpreter": {
    "hash": "26de051ba29f2982a8de78e945f0abaf191376122a1563185a90213a26c5da77"
   }
  }
 },
 "nbformat": 4,
 "nbformat_minor": 2
}
