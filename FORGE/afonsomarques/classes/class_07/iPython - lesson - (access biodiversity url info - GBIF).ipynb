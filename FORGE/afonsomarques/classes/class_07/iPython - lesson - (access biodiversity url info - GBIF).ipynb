{
 "cells": [
  {
   "cell_type": "markdown",
   "metadata": {},
   "source": [
    "# Access data by URL\n",
    "(João Palma - Master GreenDS)\n",
    "ipynb - stands for **I**teractive **PY**thon **N**ote**B**ook"
   ]
  },
  {
   "cell_type": "markdown",
   "metadata": {},
   "source": [
    "# Access Biodiveristy worldwide"
   ]
  },
  {
   "cell_type": "markdown",
   "metadata": {},
   "source": [
    "## GBIF - Global Biodiversity Information Facility"
   ]
  },
  {
   "cell_type": "markdown",
   "metadata": {},
   "source": [
    "https://www.gbif.org/developer/summary"
   ]
  },
  {
   "cell_type": "markdown",
   "metadata": {},
   "source": [
    "## Requesting\n",
    "beginners guide : https://data-blog.gbif.org/post/gbif-api-beginners-guide/"
   ]
  },
  {
   "cell_type": "markdown",
   "metadata": {},
   "source": [
    "- Go to https://www.gbif.org\n",
    "- Get Data - > Ocurrences\n",
    "- Create your search, e.g.:\n",
    "  - Scientific name: Galerida cristata\n",
    "  - Basis of ocurrence: Human observation\n",
    "  - Administrative areas (gadm.org) : Beja - PRT.3.1\n",
    "  - Year: 1900-2022\n",
    "\n",
    "You will find that your browser updates the query string. You should have something like this:\n",
    "- **https://www.gbif.org/occurrence/search**?basis_of_record=HUMAN_OBSERVATION&has_coordinate=true&has_geospatial_issue=false&taxon_key=2490669&year=1900,2022&gadm_gid=PRT.3_1\n",
    "\n",
    "Now replace **https://www.gbif.org/occurrence/search** with **https://api.gbif.org/v1/occurrence/search** (https://www.gbif.org/developer/summary) to become\n",
    "\n",
    "- https://api.gbif.org/v1/occurrence/search?basis_of_record=HUMAN_OBSERVATION&has_coordinate=true&has_geospatial_issue=false&taxon_key=2490669&year=1900,2022&gadm_gid=PRT.3_1\n",
    "\n",
    "Copy-paste in your browser. See what comes out."
   ]
  },
  {
   "cell_type": "code",
   "execution_count": null,
   "metadata": {},
   "outputs": [],
   "source": [
    "import urllib.request\n",
    "import json\n",
    "import time\n",
    "import datetime\n",
    "import pandas as pd\n",
    " \n",
    "region = \"PRT.3_1\" # Beja. check https://gadm.org\n",
    "years=\"1900,2020\" # this is a range\n",
    "#insectivoras aquaticas\n",
    "birds=[]\n",
    "birds.append([\"Galerida cristata\",\"2490669\",\"insect_agri\"])\n",
    "birds.append([\"Hippolais polyglotta\",\"2493214\",\"insect_agri\"])\n",
    "birds.append([\"Oenanthe oenanthe\",\"5231240\",\"insect_agri\"])\n",
    "birds.append([\"Anthus pratensis\",\"2490266\",\"insect_agri\"])\n",
    "birds.append([\"Saxicola rubicola\",\"4408759\",\"insect_agri\"])\n",
    "\n",
    "\n",
    "df = pd.DataFrame()\n",
    "dic_res = {\"count\":[],\"specie_grp\":[],\"specie\":[],\"decimalLongitude\":[],\"decimalLatitude\":[],\"day\":[],\"month\":[],\"year\":[],\"timestamp\":[]}\n",
    "\n",
    "count=0\n",
    "for specie in birds:\n",
    "  url = \"https://api.gbif.org/v1/occurrence/search?basis_of_record=HUMAN_OBSERVATION&has_coordinate=true&has_geospatial_issue=false&taxon_key=\" + specie[1] + \"&year=\" + years + \"&gadm_gid=\" + region + \"&limit=1000000\"\n",
    "  f = urllib.request.urlopen(url)\n",
    "  res = json.loads (f.read().decode('utf-8'))\n",
    "  for i in res[\"results\"]:\n",
    "    count+=1\n",
    "    if count % 300 ==0:\n",
    "      print (count, \" records found and counting...\")\n",
    "    #print (i[\"decimalLongitude\"],i[\"decimalLatitude\"],i[\"individualCount\"],i[\"day\"],i[\"month\"],i[\"year\"])\n",
    "    if \"day\" in i:\n",
    "      s = str(i[\"day\"]) + \"/\" + str(i[\"month\"]) + \"/\" + str(i[\"year\"])\n",
    "    else:\n",
    "      continue\n",
    "      #s = str(15) + \"/\" + str(i[\"month\"]) + \"/\" + str(i[\"year\"])\n",
    "    timestamp = time.mktime(datetime.datetime.strptime(s, \"%d/%m/%Y\").timetuple())\n",
    "    #print (count,specie[2],specie[0],i[\"decimalLongitude\"],i[\"decimalLatitude\"],i[\"day\"],i[\"month\"],i[\"year\"],timestamp)\n",
    "    dic_res[\"count\"].append(count)\n",
    "    dic_res[\"specie_grp\"].append(specie[2])\n",
    "    dic_res[\"specie\"].append(specie[0])\n",
    "    dic_res[\"decimalLongitude\"].append(i[\"decimalLongitude\"])\n",
    "    dic_res[\"decimalLatitude\"].append(i[\"decimalLatitude\"])\n",
    "    dic_res[\"day\"].append(i[\"day\"])\n",
    "    dic_res[\"month\"].append(i[\"month\"])\n",
    "    dic_res[\"year\"].append(i[\"year\"])\n",
    "    dic_res[\"timestamp\"].append(timestamp)\n",
    "#print (json.dumps(res,sort_keys=True, indent=4))\n",
    "df = pd.DataFrame(dic_res) \n",
    "print (\"Done! Found \", df.shape[0], \" records\")\n",
    "print(\"dataset size (rows,cols):\", df.shape)\n",
    "print (df)\n",
    "# Organize the dataset in groups\n",
    "groups=[]\n",
    "groups.append([\"Granívoras agrícolas\", df[df['specie_grp'] ==\"insect_agri\"]])\n"
   ]
  },
  {
   "cell_type": "code",
   "execution_count": null,
   "metadata": {},
   "outputs": [],
   "source": [
    "# Now lets try to print out a heat map with the coordinates:\n",
    "import plotly.express as px\n",
    "#for grp in groups:\n",
    "fig = px.density_mapbox(groups[0][1], lat='decimalLatitude', lon='decimalLongitude', z='year', radius=10,\n",
    "                          center=dict(lat=38, lon=-7.9), zoom=7,\n",
    "                          mapbox_style=\"stamen-terrain\", title=groups[0][0])\n",
    "fig.show()"
   ]
  },
  {
   "cell_type": "markdown",
   "metadata": {},
   "source": []
  }
 ],
 "metadata": {
  "kernelspec": {
   "display_name": "Python 3.8.10 64-bit",
   "language": "python",
   "name": "python3"
  },
  "language_info": {
   "codemirror_mode": {
    "name": "ipython",
    "version": 3
   },
   "file_extension": ".py",
   "mimetype": "text/x-python",
   "name": "python",
   "nbconvert_exporter": "python",
   "pygments_lexer": "ipython3",
   "version": "3.8.10"
  },
  "orig_nbformat": 4,
  "vscode": {
   "interpreter": {
    "hash": "43c891b8ec44cd41362f25fe9f96b5c11f058b1f257f4fbe1a27a0706b819511"
   }
  }
 },
 "nbformat": 4,
 "nbformat_minor": 2
}
